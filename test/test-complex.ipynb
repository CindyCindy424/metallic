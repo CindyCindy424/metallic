{
 "cells": [
  {
   "cell_type": "code",
   "execution_count": 30,
   "metadata": {},
   "outputs": [
    {
     "name": "stdout",
     "output_type": "stream",
     "text": [
      "tensor([['(1.0-3.0j)' '(1.0-3.0j)' '(1.0-3.0j)'],\n",
      "        ['(2.0-4.0j)' '(2.0-4.0j)' '(2.0-4.0j)']])\n"
     ]
    }
   ],
   "source": [
    "a = ComplexTensor([[1, 1, 1], [2, 2, 2], [3, 3, 3], [4, 4, 4]])\n",
    "a.requires_grad = True\n",
    "\n",
    "b = ComplexTensor([[1, 2,3], [4,5,6], [3, 3, 3], [4, 4, 4]])\n",
    "b.requires_grad = True\n",
    "\n",
    "C = a * b\n",
    "# print(C)\n",
    "\n",
    "C = C.sum()\n",
    "\n",
    "_ = C.backward()\n",
    "\n",
    "print(b.grad)GFt5"
   ]
  }
 ],
 "metadata": {
  "kernelspec": {
   "display_name": "Python 3",
   "language": "python",
   "name": "python3"
  },
  "language_info": {
   "codemirror_mode": {
    "name": "ipython",
    "version": 3
   },
   "file_extension": ".py",
   "mimetype": "text/x-python",
   "name": "python",
   "nbconvert_exporter": "python",
   "pygments_lexer": "ipython3",
   "version": "3.7.6"
  }
 },
 "nbformat": 4,
 "nbformat_minor": 4
}
